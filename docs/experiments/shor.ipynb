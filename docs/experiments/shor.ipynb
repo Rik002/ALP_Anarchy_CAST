{
  "cells": [
    {
      "cell_type": "markdown",
      "metadata": {
        "id": "cedf868076a2"
      },
      "source": [
        "##### Copyright 2020 The Cirq Developers"
      ]
    },
    {
      "cell_type": "code",
      "execution_count": null,
      "metadata": {
        "cellView": "form",
        "id": "906e07f6e562"
      },
      "outputs": [],
      "source": [
        "# @title Licensed under the Apache License, Version 2.0 (the \"License\");\n",
        "# you may not use this file except in compliance with the License.\n",
        "# You may obtain a copy of the License at\n",
        "#\n",
        "# https://www.apache.org/licenses/LICENSE-2.0\n",
        "#\n",
        "# Unless required by applicable law or agreed to in writing, software\n",
        "# distributed under the License is distributed on an \"AS IS\" BASIS,\n",
        "# WITHOUT WARRANTIES OR CONDITIONS OF ANY KIND, either express or implied.\n",
        "# See the License for the specific language governing permissions and\n",
        "# limitations under the License."
      ]
    },
    {
      "cell_type": "markdown",
      "metadata": {
        "id": "ici9I7XIYArD"
      },
      "source": [
        "# Shor's algorithm"
      ]
    },
    {
      "cell_type": "markdown",
      "metadata": {
        "id": "abbe82620fff"
      },
      "source": [
        "<table class=\"tfo-notebook-buttons\" align=\"left\">\n",
        "  <td>\n",
        "    <a target=\"_blank\" href=\"https://quantumai.google/cirq/experiments/shor\"><img src=\"https://quantumai.google/site-assets/images/buttons/quantumai_logo_1x.png\" />View on QuantumAI</a>\n",
        "  </td>\n",
        "  <td>\n",
        "    <a target=\"_blank\" href=\"https://colab.research.google.com/github/quantumlib/Cirq/blob/main/docs/experiments/shor.ipynb\"><img src=\"https://quantumai.google/site-assets/images/buttons/colab_logo_1x.png\" />Run in Google Colab</a>\n",
        "  </td>\n",
        "  <td>\n",
        "    <a target=\"_blank\" href=\"https://github.com/quantumlib/Cirq/blob/main/docs/experiments/shor.ipynb\"><img src=\"https://quantumai.google/site-assets/images/buttons/github_logo_1x.png\" />View source on GitHub</a>\n",
        "  </td>\n",
        "  <td>\n",
        "    <a href=\"https://storage.googleapis.com/tensorflow_docs/Cirq/docs/experiments/shor.ipynb\"><img src=\"https://quantumai.google/site-assets/images/buttons/download_icon_1x.png\" />Download notebook</a>\n",
        "  </td>\n",
        "</table>"
      ]
    },
    {
      "cell_type": "markdown",
      "metadata": {
        "id": "EDjKq6XBYArE"
      },
      "source": [
        "This tutorial presents a pedagogical demonstration of Shor's algorithm. It is a modified and expanded version of [this Cirq example](https://github.com/quantumlib/Cirq/blob/main/examples/shor.py)."
      ]
    },
    {
      "cell_type": "code",
      "execution_count": 23,
      "metadata": {
        "id": "dwpxc9cfYCfR"
      },
      "outputs": [],
      "source": [
        "\"\"\"Install Cirq.\"\"\"\n",
        "\n",
        "try:\n",
        "    import cirq\n",
        "except ImportError:\n",
        "    print(\"installing cirq...\")\n",
        "    !pip install --quiet cirq\n",
        "    print(\"installed cirq.\")"
      ]
    },
    {
      "cell_type": "code",
      "source": [
        "!pip install qiskit"
      ],
      "metadata": {
        "collapsed": true,
        "id": "4edjvFc90NpW",
        "outputId": "05919d9f-b1c4-42ef-d95b-0cf71f6beddd",
        "colab": {
          "base_uri": "https://localhost:8080/"
        }
      },
      "execution_count": 24,
      "outputs": [
        {
          "output_type": "stream",
          "name": "stdout",
          "text": [
            "Collecting qiskit\n",
            "  Downloading qiskit-2.1.2-cp39-abi3-manylinux_2_17_x86_64.manylinux2014_x86_64.whl.metadata (12 kB)\n",
            "Collecting rustworkx>=0.15.0 (from qiskit)\n",
            "  Downloading rustworkx-0.17.1-cp39-abi3-manylinux_2_17_x86_64.manylinux2014_x86_64.whl.metadata (10 kB)\n",
            "Requirement already satisfied: numpy<3,>=1.17 in /usr/local/lib/python3.12/dist-packages (from qiskit) (2.0.2)\n",
            "Requirement already satisfied: scipy>=1.5 in /usr/local/lib/python3.12/dist-packages (from qiskit) (1.16.1)\n",
            "Requirement already satisfied: dill>=0.3 in /usr/local/lib/python3.12/dist-packages (from qiskit) (0.3.8)\n",
            "Collecting stevedore>=3.0.0 (from qiskit)\n",
            "  Downloading stevedore-5.4.1-py3-none-any.whl.metadata (2.3 kB)\n",
            "Requirement already satisfied: typing-extensions in /usr/local/lib/python3.12/dist-packages (from qiskit) (4.14.1)\n",
            "Collecting pbr>=2.0.0 (from stevedore>=3.0.0->qiskit)\n",
            "  Downloading pbr-7.0.0-py2.py3-none-any.whl.metadata (1.4 kB)\n",
            "Requirement already satisfied: setuptools in /usr/local/lib/python3.12/dist-packages (from pbr>=2.0.0->stevedore>=3.0.0->qiskit) (75.2.0)\n",
            "Downloading qiskit-2.1.2-cp39-abi3-manylinux_2_17_x86_64.manylinux2014_x86_64.whl (7.4 MB)\n",
            "\u001b[2K   \u001b[90m━━━━━━━━━━━━━━━━━━━━━━━━━━━━━━━━━━━━━━━━\u001b[0m \u001b[32m7.4/7.4 MB\u001b[0m \u001b[31m28.0 MB/s\u001b[0m eta \u001b[36m0:00:00\u001b[0m\n",
            "\u001b[?25hDownloading rustworkx-0.17.1-cp39-abi3-manylinux_2_17_x86_64.manylinux2014_x86_64.whl (2.2 MB)\n",
            "\u001b[2K   \u001b[90m━━━━━━━━━━━━━━━━━━━━━━━━━━━━━━━━━━━━━━━━\u001b[0m \u001b[32m2.2/2.2 MB\u001b[0m \u001b[31m76.0 MB/s\u001b[0m eta \u001b[36m0:00:00\u001b[0m\n",
            "\u001b[?25hDownloading stevedore-5.4.1-py3-none-any.whl (49 kB)\n",
            "\u001b[2K   \u001b[90m━━━━━━━━━━━━━━━━━━━━━━━━━━━━━━━━━━━━━━━━\u001b[0m \u001b[32m49.5/49.5 kB\u001b[0m \u001b[31m3.9 MB/s\u001b[0m eta \u001b[36m0:00:00\u001b[0m\n",
            "\u001b[?25hDownloading pbr-7.0.0-py2.py3-none-any.whl (125 kB)\n",
            "\u001b[2K   \u001b[90m━━━━━━━━━━━━━━━━━━━━━━━━━━━━━━━━━━━━━━━━\u001b[0m \u001b[32m125.1/125.1 kB\u001b[0m \u001b[31m8.7 MB/s\u001b[0m eta \u001b[36m0:00:00\u001b[0m\n",
            "\u001b[?25hInstalling collected packages: rustworkx, pbr, stevedore, qiskit\n",
            "Successfully installed pbr-7.0.0 qiskit-2.1.2 rustworkx-0.17.1 stevedore-5.4.1\n"
          ]
        }
      ]
    },
    {
      "cell_type": "code",
      "source": [
        "!pip install 'qiskit[visualization]'"
      ],
      "metadata": {
        "collapsed": true,
        "id": "DeaWJykD0XLW",
        "outputId": "995f54b3-dabf-485c-9ca5-f611a2e062c7",
        "colab": {
          "base_uri": "https://localhost:8080/"
        }
      },
      "execution_count": 25,
      "outputs": [
        {
          "output_type": "stream",
          "name": "stdout",
          "text": [
            "Requirement already satisfied: qiskit[visualization] in /usr/local/lib/python3.12/dist-packages (2.1.2)\n",
            "Requirement already satisfied: rustworkx>=0.15.0 in /usr/local/lib/python3.12/dist-packages (from qiskit[visualization]) (0.17.1)\n",
            "Requirement already satisfied: numpy<3,>=1.17 in /usr/local/lib/python3.12/dist-packages (from qiskit[visualization]) (2.0.2)\n",
            "Requirement already satisfied: scipy>=1.5 in /usr/local/lib/python3.12/dist-packages (from qiskit[visualization]) (1.16.1)\n",
            "Requirement already satisfied: dill>=0.3 in /usr/local/lib/python3.12/dist-packages (from qiskit[visualization]) (0.3.8)\n",
            "Requirement already satisfied: stevedore>=3.0.0 in /usr/local/lib/python3.12/dist-packages (from qiskit[visualization]) (5.4.1)\n",
            "Requirement already satisfied: typing-extensions in /usr/local/lib/python3.12/dist-packages (from qiskit[visualization]) (4.14.1)\n",
            "Requirement already satisfied: matplotlib>=3.3 in /usr/local/lib/python3.12/dist-packages (from qiskit[visualization]) (3.10.0)\n",
            "Requirement already satisfied: pydot in /usr/local/lib/python3.12/dist-packages (from qiskit[visualization]) (3.0.4)\n",
            "Requirement already satisfied: Pillow>=4.2.1 in /usr/local/lib/python3.12/dist-packages (from qiskit[visualization]) (11.3.0)\n",
            "Collecting pylatexenc>=1.4 (from qiskit[visualization])\n",
            "  Downloading pylatexenc-2.10.tar.gz (162 kB)\n",
            "\u001b[2K     \u001b[90m━━━━━━━━━━━━━━━━━━━━━━━━━━━━━━━━━━━━━━━\u001b[0m \u001b[32m162.6/162.6 kB\u001b[0m \u001b[31m1.5 MB/s\u001b[0m eta \u001b[36m0:00:00\u001b[0m\n",
            "\u001b[?25h  Preparing metadata (setup.py) ... \u001b[?25l\u001b[?25hdone\n",
            "Requirement already satisfied: seaborn>=0.9.0 in /usr/local/lib/python3.12/dist-packages (from qiskit[visualization]) (0.13.2)\n",
            "Requirement already satisfied: sympy>=1.3 in /usr/local/lib/python3.12/dist-packages (from qiskit[visualization]) (1.13.3)\n",
            "Requirement already satisfied: contourpy>=1.0.1 in /usr/local/lib/python3.12/dist-packages (from matplotlib>=3.3->qiskit[visualization]) (1.3.3)\n",
            "Requirement already satisfied: cycler>=0.10 in /usr/local/lib/python3.12/dist-packages (from matplotlib>=3.3->qiskit[visualization]) (0.12.1)\n",
            "Requirement already satisfied: fonttools>=4.22.0 in /usr/local/lib/python3.12/dist-packages (from matplotlib>=3.3->qiskit[visualization]) (4.59.1)\n",
            "Requirement already satisfied: kiwisolver>=1.3.1 in /usr/local/lib/python3.12/dist-packages (from matplotlib>=3.3->qiskit[visualization]) (1.4.9)\n",
            "Requirement already satisfied: packaging>=20.0 in /usr/local/lib/python3.12/dist-packages (from matplotlib>=3.3->qiskit[visualization]) (25.0)\n",
            "Requirement already satisfied: pyparsing>=2.3.1 in /usr/local/lib/python3.12/dist-packages (from matplotlib>=3.3->qiskit[visualization]) (3.2.3)\n",
            "Requirement already satisfied: python-dateutil>=2.7 in /usr/local/lib/python3.12/dist-packages (from matplotlib>=3.3->qiskit[visualization]) (2.9.0.post0)\n",
            "Requirement already satisfied: pandas>=1.2 in /usr/local/lib/python3.12/dist-packages (from seaborn>=0.9.0->qiskit[visualization]) (2.2.2)\n",
            "Requirement already satisfied: pbr>=2.0.0 in /usr/local/lib/python3.12/dist-packages (from stevedore>=3.0.0->qiskit[visualization]) (7.0.0)\n",
            "Requirement already satisfied: mpmath<1.4,>=1.1.0 in /usr/local/lib/python3.12/dist-packages (from sympy>=1.3->qiskit[visualization]) (1.3.0)\n",
            "Requirement already satisfied: pytz>=2020.1 in /usr/local/lib/python3.12/dist-packages (from pandas>=1.2->seaborn>=0.9.0->qiskit[visualization]) (2025.2)\n",
            "Requirement already satisfied: tzdata>=2022.7 in /usr/local/lib/python3.12/dist-packages (from pandas>=1.2->seaborn>=0.9.0->qiskit[visualization]) (2025.2)\n",
            "Requirement already satisfied: setuptools in /usr/local/lib/python3.12/dist-packages (from pbr>=2.0.0->stevedore>=3.0.0->qiskit[visualization]) (75.2.0)\n",
            "Requirement already satisfied: six>=1.5 in /usr/local/lib/python3.12/dist-packages (from python-dateutil>=2.7->matplotlib>=3.3->qiskit[visualization]) (1.17.0)\n",
            "Building wheels for collected packages: pylatexenc\n",
            "  Building wheel for pylatexenc (setup.py) ... \u001b[?25l\u001b[?25hdone\n",
            "  Created wheel for pylatexenc: filename=pylatexenc-2.10-py3-none-any.whl size=136817 sha256=59e76385216acd49868a2a87f3f47e39597765b73abc021fceb976debd90e6f0\n",
            "  Stored in directory: /root/.cache/pip/wheels/06/3e/78/fa1588c1ae991bbfd814af2bcac6cef7a178beee1939180d46\n",
            "Successfully built pylatexenc\n",
            "Installing collected packages: pylatexenc\n",
            "Successfully installed pylatexenc-2.10\n"
          ]
        }
      ]
    },
    {
      "cell_type": "code",
      "source": [
        "!pip install ply"
      ],
      "metadata": {
        "collapsed": true,
        "id": "iQ30UOh40dx6",
        "outputId": "68a8b01c-6117-4791-f05b-e86567ecea5c",
        "colab": {
          "base_uri": "https://localhost:8080/"
        }
      },
      "execution_count": 26,
      "outputs": [
        {
          "output_type": "stream",
          "name": "stdout",
          "text": [
            "Requirement already satisfied: ply in /usr/local/lib/python3.12/dist-packages (3.11)\n"
          ]
        }
      ]
    },
    {
      "cell_type": "code",
      "source": [
        "import cirq\n",
        "from cirq.contrib.qasm_import import circuit_from_qasm\n",
        "from qiskit import QuantumCircuit\n",
        "from qiskit.visualization import circuit_drawer"
      ],
      "metadata": {
        "id": "_W-eJACA0Ium"
      },
      "execution_count": 27,
      "outputs": []
    },
    {
      "cell_type": "code",
      "execution_count": 28,
      "metadata": {
        "id": "0f-6DbifYArF"
      },
      "outputs": [],
      "source": [
        "\"\"\"Imports for the notebook.\"\"\"\n",
        "\n",
        "import fractions\n",
        "import math\n",
        "import random\n",
        "\n",
        "import numpy as np\n",
        "import sympy\n",
        "from IPython.display import Image\n",
        "from typing import Callable, Iterable, Sequence\n",
        "\n",
        "import cirq"
      ]
    },
    {
      "cell_type": "markdown",
      "metadata": {
        "id": "Ock9kZvcYArL"
      },
      "source": [
        "# Order finding"
      ]
    },
    {
      "cell_type": "markdown",
      "metadata": {
        "id": "zqqm2kBXYArM"
      },
      "source": [
        "Factoring an integer $n$ can be reduced to finding the period of the <i>modular exponential function</i> (to be defined). Finding this period can be accomplished (with high probability) by finding the <i>order</i> of a randomly chosen element of the multiplicative group modulo $n$.\n",
        "\n",
        "Let $n$ be a positive integer and\n",
        "\n",
        "$$ \\mathbb{Z}_n := \\{x \\in \\mathbb{Z}_+ : x < n \\text{ and } \\text{gcd}(x, n) = 1\\} $$\n",
        "\n",
        "be the multiplicative group modulo $n$.\n",
        "Given $x \\in \\mathbb{Z}_n$, compute the smallest positive integer $r$ such that $x^r \\text{ mod } n = 1$.\n",
        "\n",
        "It can be shown from group/number theory that:\n",
        "\n",
        "(1) Such an integer $r$ exists. (Note that $g^{|G|} = 1_G$ for any group $G$ with cardinality $|G|$ and element $g \\in G$, but it's possible that $r < |G|$.)\n",
        "\n",
        "(2) If $n = pq$ for primes $p$ and $q$, then $|\\mathbb{Z}_n| = \\phi(n) = (p - 1) (q - 1)$. (The function $\\phi$ is called [Euler's totient function](https://en.wikipedia.org/wiki/Euler%27s_totient_function).)\n",
        "\n",
        "(3) The modular exponential function\n",
        "\n",
        "$$ f_x(z) := x^z \\mod n $$\n",
        "\n",
        "is periodic with period $r$ (the order of the element $x \\in \\mathbb{Z}_n$). That is, $f_x(z + r) = f_x(z)$.\n",
        "\n",
        "(4) If we know the period of the modular exponential function, we can (with high probability) figure out $p$ and $q$ -- that is, factor $n$."
      ]
    },
    {
      "cell_type": "markdown",
      "metadata": {
        "id": "nIzO9TeZYArM"
      },
      "source": [
        "As a refresher, we can visualize the elements of some multiplicative groups $\\mathbb{Z}_n$ for integers $n$ via the following simple function."
      ]
    },
    {
      "cell_type": "code",
      "execution_count": 29,
      "metadata": {
        "id": "zHFjRmNbYArN"
      },
      "outputs": [],
      "source": [
        "\"\"\"Function to compute the elements of Z_n.\"\"\"\n",
        "\n",
        "\n",
        "def multiplicative_group(n: int) -> list[int]:\n",
        "    \"\"\"Returns the multiplicative group modulo n.\n",
        "\n",
        "    Args:\n",
        "        n: Modulus of the multiplicative group.\n",
        "    \"\"\"\n",
        "    assert n > 1\n",
        "    group = [1]\n",
        "    for x in range(2, n):\n",
        "        if math.gcd(x, n) == 1:\n",
        "            group.append(x)\n",
        "    return group"
      ]
    },
    {
      "cell_type": "markdown",
      "metadata": {
        "id": "kFp5r6wpYArS"
      },
      "source": [
        "For example, the multiplicative group modulo $n = 15$ is shown below."
      ]
    },
    {
      "cell_type": "code",
      "execution_count": 30,
      "metadata": {
        "id": "5eQq1tJBYArS",
        "outputId": "1c509365-eda6-4e03-b44f-6b607372321e",
        "colab": {
          "base_uri": "https://localhost:8080/"
        }
      },
      "outputs": [
        {
          "output_type": "stream",
          "name": "stdout",
          "text": [
            "The multiplicative group modulo n = 15 is:\n",
            "[1, 2, 4, 7, 8, 11, 13, 14]\n"
          ]
        }
      ],
      "source": [
        "\"\"\"Example of a multiplicative group.\"\"\"\n",
        "\n",
        "n = 15\n",
        "print(f\"The multiplicative group modulo n = {n} is:\")\n",
        "print(multiplicative_group(n))"
      ]
    },
    {
      "cell_type": "markdown",
      "metadata": {
        "id": "zQnZOQuTYArX"
      },
      "source": [
        "One can check that this set of elements indeed forms a group (under ordinary multiplication)."
      ]
    },
    {
      "cell_type": "markdown",
      "metadata": {
        "id": "OCjTjXAGYArY"
      },
      "source": [
        "## Classical order finding"
      ]
    },
    {
      "cell_type": "markdown",
      "metadata": {
        "id": "NwZUENkWYArZ"
      },
      "source": [
        "A function for classically computing the order $r$ of an element $x \\in \\mathbb{Z}_n$ is provided below. This function simply computes the sequence\n",
        "\n",
        "$$ x^2 \\text{ mod } n $$\n",
        "$$ x^3 \\text{ mod } n $$\n",
        "$$ x^4 \\text{ mod } n $$\n",
        "$$ \\vdots $$\n",
        "\n",
        "until an integer $r$ is found such that $x^r = 1 \\text{ mod } n$. Since $|\\mathbb{Z}_n| = \\phi(n)$, this algorithm for order finding has time complexity $O(\\phi(n))$ which is inefficient. (Roughly $O(2^{L / 2})$ where $L$ is the number of bits in $n$.)"
      ]
    },
    {
      "cell_type": "code",
      "execution_count": 31,
      "metadata": {
        "id": "v3GfJ0POYAra"
      },
      "outputs": [],
      "source": [
        "\"\"\"Function for classically computing the order of an element of Z_n.\"\"\"\n",
        "\n",
        "\n",
        "def classical_order_finder(x: int, n: int) -> int | None:\n",
        "    \"\"\"Computes smallest positive r such that x**r mod n == 1.\n",
        "\n",
        "    Args:\n",
        "        x: Integer whose order is to be computed, must be greater than one\n",
        "           and belong to the multiplicative group of integers modulo n (which\n",
        "           consists of positive integers relatively prime to n),\n",
        "        n: Modulus of the multiplicative group.\n",
        "\n",
        "    Returns:\n",
        "        Smallest positive integer r such that x**r == 1 mod n.\n",
        "        Always succeeds (and hence never returns None).\n",
        "\n",
        "    Raises:\n",
        "        ValueError when x is 1 or not an element of the multiplicative\n",
        "        group of integers modulo n.\n",
        "    \"\"\"\n",
        "    # Make sure x is both valid and in Z_n.\n",
        "    if x < 2 or x >= n or math.gcd(x, n) > 1:\n",
        "        raise ValueError(f\"Invalid x={x} for modulus n={n}.\")\n",
        "\n",
        "    # Determine the order.\n",
        "    r, y = 1, x\n",
        "    while y != 1:\n",
        "        y = (x * y) % n\n",
        "        r += 1\n",
        "    return r"
      ]
    },
    {
      "cell_type": "markdown",
      "metadata": {
        "id": "n3J_akErYAre"
      },
      "source": [
        "An example of computing $r$ for a given $x \\in \\mathbb{Z}_n$ and given $n$ is shown in the code block below."
      ]
    },
    {
      "cell_type": "code",
      "execution_count": 32,
      "metadata": {
        "id": "Lvs1wwgPYAre",
        "outputId": "fb64ee1b-4892-426d-d913-61b2243ecdfa",
        "colab": {
          "base_uri": "https://localhost:8080/"
        }
      },
      "outputs": [
        {
          "output_type": "stream",
          "name": "stdout",
          "text": [
            "x^r mod n = 8^4 mod 15 = 1\n"
          ]
        }
      ],
      "source": [
        "\"\"\"Example of (classically) computing the order of an element.\"\"\"\n",
        "\n",
        "n = 15  # The multiplicative group is [1, 2, 4, 7, 8, 11, 13, 14].\n",
        "x = 8\n",
        "r = classical_order_finder(x, n)\n",
        "\n",
        "# Check that the order is indeed correct.\n",
        "print(f\"x^r mod n = {x}^{r} mod {n} = {x**r % n}\")"
      ]
    },
    {
      "cell_type": "markdown",
      "metadata": {
        "id": "9U7ajXpEYArj"
      },
      "source": [
        "The quantum part of Shor's algorithm is order finding, but done via a quantum circuit, which we'll discuss below."
      ]
    },
    {
      "cell_type": "markdown",
      "metadata": {
        "id": "D3JqmaE-YArj"
      },
      "source": [
        "## Quantum order finding"
      ]
    },
    {
      "cell_type": "markdown",
      "metadata": {
        "id": "sdm5KtkiYArk"
      },
      "source": [
        "Quantum order finding is essentially quantum phase estimation with unitary $U$ that computes the modular exponential function $f_x(z)$ for some randomly chosen $x \\in \\mathbb{Z}_n$. The full details of how $U$ is computed in terms of elementary gates can be complex to unravel, especially on a first reading. In this tutorial, we'll use arithmetic gates in Cirq which can implement such a unitary $U$ without fully delving into the details of elementary gates.\n",
        "\n",
        "Below we first show an example of a simple arithmetic gate in Cirq (addition) then discuss the gate we care about (modular exponentiation)."
      ]
    },
    {
      "cell_type": "markdown",
      "metadata": {
        "id": "I9wao-eNYArl"
      },
      "source": [
        "### Quantum arithmetic gates in Cirq"
      ]
    },
    {
      "cell_type": "markdown",
      "metadata": {
        "id": "03iL9sDpYArl"
      },
      "source": [
        "Here we discuss an example of defining an arithmetic gate in Cirq, namely modular addition. This gate adds the value of the input register into the target register. More specifically, this gate acts on two qubit registers as\n",
        "\n",
        "$$ |a\\rangle_i |b\\rangle_t \\mapsto |a\\rangle_i |a + b \\text{ mod } N_t \\rangle_t . $$\n",
        "\n",
        "Here, the subscripts $i$ and $t$ denote <i>i</i>nput and <i>t</i>arget register, respectively, and $N_t$ is the dimension of the target register.\n",
        "\n",
        "To define this gate, called `Adder`, we inherit from `cirq.ArithmeticGate` and override the four methods shown below. Note the register arguments specify the shape of the qubits to which they can be applied.\n",
        "\n",
        "The main method is the `apply` method which defines the arithmetic. Here, we simply state the expression as $a + b$ instead of the more accurate $a + b \\text{ mod } N_t$ above -- the `cirq.ArithmeticGate` class is able to deduce what we mean by simply $a + b$ since the gate must be reversible."
      ]
    },
    {
      "cell_type": "code",
      "execution_count": 38,
      "metadata": {
        "id": "4QRBj3-vYArm"
      },
      "outputs": [],
      "source": [
        "\"\"\"Example of defining an arithmetic (quantum) gate in Cirq.\"\"\"\n",
        "\n",
        "\n",
        "class Adder(cirq.ArithmeticGate):\n",
        "    \"\"\"Quantum addition.\"\"\"\n",
        "\n",
        "    def __init__(self, target_register: int | Sequence[int], input_register: int | Sequence[int]):\n",
        "        self.target_register = target_register\n",
        "        self.input_register = input_register\n",
        "\n",
        "    def registers(self) -> Sequence[int | Sequence[int]]:\n",
        "        return self.target_register, self.input_register\n",
        "\n",
        "    def with_registers(self, *new_registers: int | Sequence[int]) -> 'Adder':\n",
        "        return Adder(*new_registers)\n",
        "\n",
        "    def apply(self, *register_values: int) -> int | Iterable[int]:\n",
        "        return sum(register_values)\n",
        "\n",
        "    def _circuit_diagram_info_(self, args: cirq.CircuitDiagramInfoArgs):\n",
        "        wire_symbols = [' + ' for _ in range(len(self.input_register) + len(self.target_register))]\n",
        "        return cirq.CircuitDiagramInfo(wire_symbols=tuple(wire_symbols))\n",
        "\n",
        "\n",
        "    def _decompose_(self, qubits):\n",
        "        # This is where you define the decomposition of your Adder into elementary gates.\n",
        "        # This example assumes two 2-qubit registers for simplicity.\n",
        "        # Replace this with a *real* decomposition for your Adder's functionality.\n",
        "        input_q = qubits[:len(qreg1)]\n",
        "        target_q = qubits[len(qreg1):]\n",
        "\n",
        "        # Example decomposition (very simplified and not a functional adder):\n",
        "        # This illustrates the principle of yielding elementary operations.\n",
        "        # A true adder would involve more complex gate sequences (e.g., ripple-carry adder).\n",
        "        yield cirq.CNOT(input_q[0], target_q[0])\n",
        "        yield cirq.CNOT(input_q[1], target_q[1])\n",
        "        # You might also include controlled-controlled-X (Toffoli) gates for carry operations.\n",
        "        # yield cirq.CCX(input_q[0], input_q[1], target_q[0]) # Example of a Toffoli gate\n"
      ]
    },
    {
      "cell_type": "markdown",
      "metadata": {
        "id": "XxOfZE6yYArq"
      },
      "source": [
        "Now that we have the gate defined, we can use it in a circuit. The cell below creates two qubit registers, then sets the first register to be $|10\\rangle$ (in binary) and the second register to be $|01\\rangle$ (in binary) via $X$ gates. Then, we use the `Adder` gate, then measure all the qubits.\n",
        "\n",
        "Since $10 + 01 = 11$ (in binary), we expect to measure $|11\\rangle$ in the target register every time. Additionally, since we do not alter the input register, we expect to measure $|10\\rangle$ in the input register every time. In short, the only bitstring we expect to measure is $1011$."
      ]
    },
    {
      "cell_type": "code",
      "execution_count": 41,
      "metadata": {
        "id": "R5eN1c-GYArr",
        "outputId": "3a8f154b-206d-4558-b1a2-81da8f4513d6",
        "colab": {
          "base_uri": "https://localhost:8080/",
          "height": 356
        }
      },
      "outputs": [
        {
          "output_type": "error",
          "ename": "ValueError",
          "evalue": "Cannot output operation as QASM: <__main__.Adder object at 0x7946223e21b0>.on(cirq.LineQubit(0), cirq.LineQubit(1), cirq.LineQubit(2), cirq.LineQubit(3))",
          "traceback": [
            "\u001b[0;31m---------------------------------------------------------------------------\u001b[0m",
            "\u001b[0;31mValueError\u001b[0m                                Traceback (most recent call last)",
            "\u001b[0;32m/tmp/ipython-input-4060536708.py\u001b[0m in \u001b[0;36m<cell line: 0>\u001b[0;34m()\u001b[0m\n\u001b[1;32m     18\u001b[0m \u001b[0mdecomposed_circ\u001b[0m \u001b[0;34m=\u001b[0m \u001b[0mcirq\u001b[0m\u001b[0;34m.\u001b[0m\u001b[0mCircuit\u001b[0m\u001b[0;34m(\u001b[0m\u001b[0mcirq\u001b[0m\u001b[0;34m.\u001b[0m\u001b[0mdecompose\u001b[0m\u001b[0;34m(\u001b[0m\u001b[0mcirc\u001b[0m\u001b[0;34m)\u001b[0m\u001b[0;34m)\u001b[0m\u001b[0;34m\u001b[0m\u001b[0;34m\u001b[0m\u001b[0m\n\u001b[1;32m     19\u001b[0m \u001b[0;34m\u001b[0m\u001b[0m\n\u001b[0;32m---> 20\u001b[0;31m \u001b[0mqasm_string\u001b[0m \u001b[0;34m=\u001b[0m \u001b[0mdecomposed_circ\u001b[0m\u001b[0;34m.\u001b[0m\u001b[0mto_qasm\u001b[0m\u001b[0;34m(\u001b[0m\u001b[0;34m)\u001b[0m\u001b[0;34m\u001b[0m\u001b[0;34m\u001b[0m\u001b[0m\n\u001b[0m\u001b[1;32m     21\u001b[0m \u001b[0mprint\u001b[0m\u001b[0;34m(\u001b[0m\u001b[0;34m\"\\nGenerated OPENQASM:\"\u001b[0m\u001b[0;34m)\u001b[0m\u001b[0;34m\u001b[0m\u001b[0;34m\u001b[0m\u001b[0m\n\u001b[1;32m     22\u001b[0m \u001b[0mprint\u001b[0m\u001b[0;34m(\u001b[0m\u001b[0mqasm_string\u001b[0m\u001b[0;34m)\u001b[0m\u001b[0;34m\u001b[0m\u001b[0;34m\u001b[0m\u001b[0m\n",
            "\u001b[0;32m/usr/local/lib/python3.12/dist-packages/cirq/circuits/circuit.py\u001b[0m in \u001b[0;36mto_qasm\u001b[0;34m(self, header, precision, qubit_order, version)\u001b[0m\n\u001b[1;32m   1419\u001b[0m         \"\"\"\n\u001b[1;32m   1420\u001b[0m \u001b[0;34m\u001b[0m\u001b[0m\n\u001b[0;32m-> 1421\u001b[0;31m         \u001b[0;32mreturn\u001b[0m \u001b[0mstr\u001b[0m\u001b[0;34m(\u001b[0m\u001b[0mself\u001b[0m\u001b[0;34m.\u001b[0m\u001b[0m_to_qasm_output\u001b[0m\u001b[0;34m(\u001b[0m\u001b[0mheader\u001b[0m\u001b[0;34m,\u001b[0m \u001b[0mprecision\u001b[0m\u001b[0;34m,\u001b[0m \u001b[0mqubit_order\u001b[0m\u001b[0;34m,\u001b[0m \u001b[0mversion\u001b[0m\u001b[0;34m)\u001b[0m\u001b[0;34m)\u001b[0m\u001b[0;34m\u001b[0m\u001b[0;34m\u001b[0m\u001b[0m\n\u001b[0m\u001b[1;32m   1422\u001b[0m \u001b[0;34m\u001b[0m\u001b[0m\n\u001b[1;32m   1423\u001b[0m     def save_qasm(\n",
            "\u001b[0;32m/usr/local/lib/python3.12/dist-packages/cirq/circuits/qasm_output.py\u001b[0m in \u001b[0;36m__str__\u001b[0;34m(self)\u001b[0m\n\u001b[1;32m    271\u001b[0m         \u001b[0;34m\"\"\"Return QASM output as a string.\"\"\"\u001b[0m\u001b[0;34m\u001b[0m\u001b[0;34m\u001b[0m\u001b[0m\n\u001b[1;32m    272\u001b[0m         \u001b[0moutput\u001b[0m \u001b[0;34m=\u001b[0m \u001b[0;34m[\u001b[0m\u001b[0;34m]\u001b[0m\u001b[0;34m\u001b[0m\u001b[0;34m\u001b[0m\u001b[0m\n\u001b[0;32m--> 273\u001b[0;31m         \u001b[0mself\u001b[0m\u001b[0;34m.\u001b[0m\u001b[0m_write_qasm\u001b[0m\u001b[0;34m(\u001b[0m\u001b[0;32mlambda\u001b[0m \u001b[0ms\u001b[0m\u001b[0;34m:\u001b[0m \u001b[0moutput\u001b[0m\u001b[0;34m.\u001b[0m\u001b[0mappend\u001b[0m\u001b[0;34m(\u001b[0m\u001b[0ms\u001b[0m\u001b[0;34m)\u001b[0m\u001b[0;34m)\u001b[0m\u001b[0;34m\u001b[0m\u001b[0;34m\u001b[0m\u001b[0m\n\u001b[0m\u001b[1;32m    274\u001b[0m         \u001b[0;32mreturn\u001b[0m \u001b[0;34m''\u001b[0m\u001b[0;34m.\u001b[0m\u001b[0mjoin\u001b[0m\u001b[0;34m(\u001b[0m\u001b[0moutput\u001b[0m\u001b[0;34m)\u001b[0m\u001b[0;34m\u001b[0m\u001b[0;34m\u001b[0m\u001b[0m\n\u001b[1;32m    275\u001b[0m \u001b[0;34m\u001b[0m\u001b[0m\n",
            "\u001b[0;32m/usr/local/lib/python3.12/dist-packages/cirq/circuits/qasm_output.py\u001b[0m in \u001b[0;36m_write_qasm\u001b[0;34m(self, output_func)\u001b[0m\n\u001b[1;32m    332\u001b[0m \u001b[0;34m\u001b[0m\u001b[0m\n\u001b[1;32m    333\u001b[0m         \u001b[0;31m# Operations\u001b[0m\u001b[0;34m\u001b[0m\u001b[0;34m\u001b[0m\u001b[0m\n\u001b[0;32m--> 334\u001b[0;31m         \u001b[0mself\u001b[0m\u001b[0;34m.\u001b[0m\u001b[0m_write_operations\u001b[0m\u001b[0;34m(\u001b[0m\u001b[0mself\u001b[0m\u001b[0;34m.\u001b[0m\u001b[0moperations\u001b[0m\u001b[0;34m,\u001b[0m \u001b[0moutput\u001b[0m\u001b[0;34m,\u001b[0m \u001b[0moutput_line_gap\u001b[0m\u001b[0;34m)\u001b[0m\u001b[0;34m\u001b[0m\u001b[0;34m\u001b[0m\u001b[0m\n\u001b[0m\u001b[1;32m    335\u001b[0m \u001b[0;34m\u001b[0m\u001b[0m\n\u001b[1;32m    336\u001b[0m     def _write_operations(\n",
            "\u001b[0;32m/usr/local/lib/python3.12/dist-packages/cirq/circuits/qasm_output.py\u001b[0m in \u001b[0;36m_write_operations\u001b[0;34m(self, op_tree, output, output_line_gap)\u001b[0m\n\u001b[1;32m    359\u001b[0m \u001b[0;34m\u001b[0m\u001b[0m\n\u001b[1;32m    360\u001b[0m         \u001b[0;32mfor\u001b[0m \u001b[0mmain_op\u001b[0m \u001b[0;32min\u001b[0m \u001b[0mops\u001b[0m\u001b[0;34m.\u001b[0m\u001b[0mflatten_op_tree\u001b[0m\u001b[0;34m(\u001b[0m\u001b[0mop_tree\u001b[0m\u001b[0;34m)\u001b[0m\u001b[0;34m:\u001b[0m\u001b[0;34m\u001b[0m\u001b[0;34m\u001b[0m\u001b[0m\n\u001b[0;32m--> 361\u001b[0;31m             decomposed = protocols.decompose(\n\u001b[0m\u001b[1;32m    362\u001b[0m                 \u001b[0mmain_op\u001b[0m\u001b[0;34m,\u001b[0m \u001b[0mkeep\u001b[0m\u001b[0;34m=\u001b[0m\u001b[0mkeep\u001b[0m\u001b[0;34m,\u001b[0m \u001b[0mfallback_decomposer\u001b[0m\u001b[0;34m=\u001b[0m\u001b[0mfallback\u001b[0m\u001b[0;34m,\u001b[0m \u001b[0mon_stuck_raise\u001b[0m\u001b[0;34m=\u001b[0m\u001b[0mon_stuck\u001b[0m\u001b[0;34m\u001b[0m\u001b[0;34m\u001b[0m\u001b[0m\n\u001b[1;32m    363\u001b[0m             )\n",
            "\u001b[0;32m/usr/local/lib/python3.12/dist-packages/cirq/protocols/decompose_protocol.py\u001b[0m in \u001b[0;36mdecompose\u001b[0;34m(val, intercepting_decomposer, fallback_decomposer, keep, on_stuck_raise, preserve_structure, context)\u001b[0m\n\u001b[1;32m    313\u001b[0m         \u001b[0mpreserve_structure\u001b[0m\u001b[0;34m=\u001b[0m\u001b[0mpreserve_structure\u001b[0m\u001b[0;34m,\u001b[0m\u001b[0;34m\u001b[0m\u001b[0;34m\u001b[0m\u001b[0m\n\u001b[1;32m    314\u001b[0m     )\n\u001b[0;32m--> 315\u001b[0;31m     \u001b[0;32mreturn\u001b[0m \u001b[0;34m[\u001b[0m\u001b[0;34m*\u001b[0m\u001b[0m_decompose_dfs\u001b[0m\u001b[0;34m(\u001b[0m\u001b[0mval\u001b[0m\u001b[0;34m,\u001b[0m \u001b[0margs\u001b[0m\u001b[0;34m)\u001b[0m\u001b[0;34m]\u001b[0m\u001b[0;34m\u001b[0m\u001b[0;34m\u001b[0m\u001b[0m\n\u001b[0m\u001b[1;32m    316\u001b[0m \u001b[0;34m\u001b[0m\u001b[0m\n\u001b[1;32m    317\u001b[0m \u001b[0;34m\u001b[0m\u001b[0m\n",
            "\u001b[0;32m/usr/local/lib/python3.12/dist-packages/cirq/protocols/decompose_protocol.py\u001b[0m in \u001b[0;36m_decompose_dfs\u001b[0;34m(item, args)\u001b[0m\n\u001b[1;32m    221\u001b[0m                 \u001b[0merror\u001b[0m \u001b[0;34m=\u001b[0m \u001b[0margs\u001b[0m\u001b[0;34m.\u001b[0m\u001b[0mon_stuck_raise\u001b[0m\u001b[0;34m(\u001b[0m\u001b[0mitem\u001b[0m\u001b[0;34m)\u001b[0m\u001b[0;34m\u001b[0m\u001b[0;34m\u001b[0m\u001b[0m\n\u001b[1;32m    222\u001b[0m                 \u001b[0;32mif\u001b[0m \u001b[0merror\u001b[0m \u001b[0;32mis\u001b[0m \u001b[0;32mnot\u001b[0m \u001b[0;32mNone\u001b[0m\u001b[0;34m:\u001b[0m\u001b[0;34m\u001b[0m\u001b[0;34m\u001b[0m\u001b[0m\n\u001b[0;32m--> 223\u001b[0;31m                     \u001b[0;32mraise\u001b[0m \u001b[0merror\u001b[0m\u001b[0;34m\u001b[0m\u001b[0;34m\u001b[0m\u001b[0m\n\u001b[0m\u001b[1;32m    224\u001b[0m         \u001b[0;32myield\u001b[0m \u001b[0mitem\u001b[0m\u001b[0;34m\u001b[0m\u001b[0;34m\u001b[0m\u001b[0m\n\u001b[1;32m    225\u001b[0m     \u001b[0;32melse\u001b[0m\u001b[0;34m:\u001b[0m\u001b[0;34m\u001b[0m\u001b[0;34m\u001b[0m\u001b[0m\n",
            "\u001b[0;31mValueError\u001b[0m: Cannot output operation as QASM: <__main__.Adder object at 0x7946223e21b0>.on(cirq.LineQubit(0), cirq.LineQubit(1), cirq.LineQubit(2), cirq.LineQubit(3))"
          ]
        }
      ],
      "source": [
        "# Two qubit registers.\n",
        "qreg1 = cirq.LineQubit.range(2)\n",
        "qreg2 = cirq.LineQubit.range(2, 4)\n",
        "\n",
        "# Define an adder gate for two 2D input and target qubits.\n",
        "adder = Adder(input_register=[2, 2], target_register=[2, 2])\n",
        "\n",
        "# Define the circuit.\n",
        "circ = cirq.Circuit(\n",
        "    cirq.X.on(qreg1[0]),\n",
        "    cirq.X.on(qreg2[1]),\n",
        "    adder.on(*qreg1, *qreg2),\n",
        "    cirq.measure_each(*qreg1),\n",
        "    cirq.measure_each(*qreg2),\n",
        ")\n",
        "\n",
        "# Decompose the circuit before QASM export\n",
        "decomposed_circ = cirq.Circuit(cirq.decompose(circ))\n",
        "\n",
        "qasm_string = decomposed_circ.to_qasm()\n",
        "print(\"\\nGenerated OPENQASM:\")\n",
        "print(qasm_string)\n",
        "# Import OPENQASM into Qiskit\n",
        "qiskit_circuit = QuantumCircuit.from_qasm_str(qasm_string)\n",
        "# Draw the Qiskit circuit (graphical representation requires 'mpl' or 'latex' output)\n",
        "\n",
        "print(\"\\nQiskit Circuit Diagram (Text):\")\n",
        "print(circuit_drawer(qiskit_circuit, output='text'))\n",
        "print(\"\\nQiskit Circuit Diagram (Matplotlib):\")\n",
        "circuit_drawer(qiskit_circuit, output='mpl', filename='qiskit_circuit.png')\n",
        "\n",
        "Image('qiskit_circuit.png')\n",
        "\n",
        "\n",
        "# Display it.\n",
        "print(\"Circuit:\\n\")\n",
        "print(circ)\n",
        "\n",
        "# Print the measurement outcomes.\n",
        "print(\"\\n\\nMeasurement outcomes:\\n\")\n",
        "print(cirq.sample(circ, repetitions=5).data)\n"
      ]
    },
    {
      "cell_type": "markdown",
      "metadata": {
        "id": "Q2ZlalhkYArv"
      },
      "source": [
        "In the output of this code block, we first see the circuit which shows the initial $X$ gates, the `Adder` gate, then the final measurements. Next, we see the measurement outcomes which are all the bitstring $1011$ as expected."
      ]
    },
    {
      "cell_type": "markdown",
      "metadata": {
        "id": "jEnqlr6pYArv"
      },
      "source": [
        "It is also possible to see the unitary of the adder gate, which we do below. Here, we set the target register to be two qubits in the zero state, i.e. $|00\\rangle$. We specify the input register as the integer one which corresponds to the qubit register $|01\\rangle$."
      ]
    },
    {
      "cell_type": "code",
      "execution_count": 9,
      "metadata": {
        "id": "aT5BGnbnYArw",
        "outputId": "b27e1075-2f44-493c-c16a-03ec12641c9c",
        "colab": {
          "base_uri": "https://localhost:8080/"
        }
      },
      "outputs": [
        {
          "output_type": "execute_result",
          "data": {
            "text/plain": [
              "array([[0., 0., 0., 1.],\n",
              "       [1., 0., 0., 0.],\n",
              "       [0., 1., 0., 0.],\n",
              "       [0., 0., 1., 0.]])"
            ]
          },
          "metadata": {},
          "execution_count": 9
        }
      ],
      "source": [
        "\"\"\"Example of the unitary of an Adder gate.\"\"\"\n",
        "\n",
        "cirq.unitary(Adder(target_register=[2, 2], input_register=1)).real"
      ]
    },
    {
      "cell_type": "markdown",
      "metadata": {
        "id": "ncekGfXdYArz"
      },
      "source": [
        "We can understand this unitary as follows. The $i$th column of the unitary is the state $|i + 1 \\text{ mod } 4\\rangle$. For example, if we look at the $0$th column of the unitary, we see the state $|i + 1 \\text{ mod } 4\\rangle = |0 + 1 \\text{ mod } 4\\rangle = |1\\rangle$. If we look at the $1$st column of the unitary, we see the state $|i + 1 \\text{ mod } 4\\rangle = |1 + 1 \\text{ mod } 4\\rangle = |2\\rangle$. Similarly for the last two columns."
      ]
    },
    {
      "cell_type": "markdown",
      "metadata": {
        "id": "EqevQK8OYAr0"
      },
      "source": [
        "### Modular exponential arithmetic gate"
      ]
    },
    {
      "cell_type": "markdown",
      "metadata": {
        "id": "U3A2OnVTYAr1"
      },
      "source": [
        "We can define the modular exponential arithmetic gate in a similar way to the simple addition arithmetic gate, shown below. For the purposes of understanding Shor's algorithm, the most important part of the following code block is the `apply` method which defines the arithmetic gate."
      ]
    },
    {
      "cell_type": "code",
      "execution_count": 10,
      "metadata": {
        "id": "Yt3iyR3uYAr1"
      },
      "outputs": [],
      "source": [
        "\"\"\"Defines the modular exponential gate used in Shor's algorithm.\"\"\"\n",
        "\n",
        "\n",
        "class ModularExp(cirq.ArithmeticGate):\n",
        "    \"\"\"Quantum modular exponentiation.\n",
        "\n",
        "    This class represents the unitary which multiplies base raised to exponent\n",
        "    into the target modulo the given modulus. More precisely, it represents the\n",
        "    unitary V which computes modular exponentiation x**e mod n:\n",
        "\n",
        "        V|y⟩|e⟩ = |y * x**e mod n⟩ |e⟩     0 <= y < n\n",
        "        V|y⟩|e⟩ = |y⟩ |e⟩                  n <= y\n",
        "\n",
        "    where y is the target register, e is the exponent register, x is the base\n",
        "    and n is the modulus. Consequently,\n",
        "\n",
        "        V|y⟩|e⟩ = (U**e|y)|e⟩\n",
        "\n",
        "    where U is the unitary defined as\n",
        "\n",
        "        U|y⟩ = |y * x mod n⟩      0 <= y < n\n",
        "        U|y⟩ = |y⟩                n <= y\n",
        "    \"\"\"\n",
        "\n",
        "    def __init__(\n",
        "        self, target: Sequence[int], exponent: int | Sequence[int], base: int, modulus: int\n",
        "    ) -> None:\n",
        "        if len(target) < modulus.bit_length():\n",
        "            raise ValueError(\n",
        "                f'Register with {len(target)} qubits is too small for modulus' f' {modulus}'\n",
        "            )\n",
        "        self.target = target\n",
        "        self.exponent = exponent\n",
        "        self.base = base\n",
        "        self.modulus = modulus\n",
        "\n",
        "    def registers(self) -> Sequence[int | Sequence[int]]:\n",
        "        return self.target, self.exponent, self.base, self.modulus\n",
        "\n",
        "    def with_registers(self, *new_registers: int | Sequence[int]) -> 'ModularExp':\n",
        "        \"\"\"Returns a new ModularExp object with new registers.\"\"\"\n",
        "        if len(new_registers) != 4:\n",
        "            raise ValueError(\n",
        "                f'Expected 4 registers (target, exponent, base, '\n",
        "                f'modulus), but got {len(new_registers)}'\n",
        "            )\n",
        "        target, exponent, base, modulus = new_registers\n",
        "        if not isinstance(target, Sequence):\n",
        "            raise ValueError(f'Target must be a qubit register, got {type(target)}')\n",
        "        if not isinstance(base, int):\n",
        "            raise ValueError(f'Base must be a classical constant, got {type(base)}')\n",
        "        if not isinstance(modulus, int):\n",
        "            raise ValueError(f'Modulus must be a classical constant, got {type(modulus)}')\n",
        "        return ModularExp(target, exponent, base, modulus)\n",
        "\n",
        "    def apply(self, *register_values: int) -> int:\n",
        "        \"\"\"Applies modular exponentiation to the registers.\n",
        "\n",
        "        Four values should be passed in.  They are, in order:\n",
        "          - the target\n",
        "          - the exponent\n",
        "          - the base\n",
        "          - the modulus\n",
        "\n",
        "        Note that the target and exponent should be qubit\n",
        "        registers, while the base and modulus should be\n",
        "        constant parameters that control the resulting unitary.\n",
        "        \"\"\"\n",
        "        assert len(register_values) == 4\n",
        "        target, exponent, base, modulus = register_values\n",
        "        if target >= modulus:\n",
        "            return target\n",
        "        return (target * base**exponent) % modulus\n",
        "\n",
        "    def _circuit_diagram_info_(self, args: cirq.CircuitDiagramInfoArgs) -> cirq.CircuitDiagramInfo:\n",
        "        \"\"\"Returns a 'CircuitDiagramInfo' object for printing circuits.\n",
        "\n",
        "        This function just returns information on how to print this operation\n",
        "        out in a circuit diagram so that the registers are labeled\n",
        "        appropriately as exponent ('e') and target ('t').\n",
        "        \"\"\"\n",
        "        assert args.known_qubits is not None\n",
        "        wire_symbols = [f't{i}' for i in range(len(self.target))]\n",
        "        e_str = str(self.exponent)\n",
        "        if isinstance(self.exponent, Sequence):\n",
        "            e_str = 'e'\n",
        "            wire_symbols += [f'e{i}' for i in range(len(self.exponent))]\n",
        "        wire_symbols[0] = f'ModularExp(t*{self.base}**{e_str} % {self.modulus})'\n",
        "        return cirq.CircuitDiagramInfo(wire_symbols=tuple(wire_symbols))"
      ]
    },
    {
      "cell_type": "markdown",
      "metadata": {
        "id": "NKCFPDa9YAr6"
      },
      "source": [
        "In the `apply` method, we see that we evaluate `(target * base**exponent) % modulus`. The `target` and the `exponent` depend on the values of the respective qubit registers, and the `base` and `modulus` are constant -- namely, the `modulus` is $n$ and the `base` is some $x \\in \\mathbb{Z}_n$."
      ]
    },
    {
      "cell_type": "markdown",
      "metadata": {
        "id": "-6VgDqbXYAr6"
      },
      "source": [
        "The total number of qubits we will use is $3 (L + 1)$ where $L$ is the number of bits needed to store the integer $n$ to factor. The size of the unitary which implements the modular exponential is thus $4^{3(L + 1)}$. For a modest $n = 15$, the unitary requires storing $2^{30}$ floating point numbers in memory which is out of reach of most current standard laptops."
      ]
    },
    {
      "cell_type": "code",
      "execution_count": 11,
      "metadata": {
        "id": "aLPqY6gtYAr7",
        "outputId": "308c1e19-cfb7-458a-8f33-0bb536f3f74e",
        "colab": {
          "base_uri": "https://localhost:8080/"
        }
      },
      "outputs": [
        {
          "output_type": "stream",
          "name": "stdout",
          "text": [
            "To factor n = 15 which has L = 4 bits, we need 3L + 3 = 15 qubits.\n"
          ]
        }
      ],
      "source": [
        "\"\"\"Create the target and exponent registers for phase estimation,\n",
        "and see the number of qubits needed for Shor's algorithm.\n",
        "\"\"\"\n",
        "\n",
        "n = 15\n",
        "L = n.bit_length()\n",
        "\n",
        "# The target register has L qubits.\n",
        "target = cirq.LineQubit.range(L)\n",
        "\n",
        "# The exponent register has 2L + 3 qubits.\n",
        "exponent = cirq.LineQubit.range(L, 3 * L + 3)\n",
        "\n",
        "# Display the total number of qubits to factor this n.\n",
        "print(f\"To factor n = {n} which has L = {L} bits, we need 3L + 3 = {3 * L + 3} qubits.\")"
      ]
    },
    {
      "cell_type": "markdown",
      "metadata": {
        "id": "JUoP7b2BYAr_"
      },
      "source": [
        "As with the simple adder gate, this modular exponential gate has a unitary which we can display (memory permitting) as follows."
      ]
    },
    {
      "cell_type": "code",
      "execution_count": 12,
      "metadata": {
        "id": "KVIxkUhaYAr_"
      },
      "outputs": [],
      "source": [
        "\"\"\"See (part of) the unitary for a modular exponential gate.\"\"\"\n",
        "\n",
        "# Pick some element of the multiplicative group modulo n.\n",
        "x = 5\n",
        "\n",
        "# Display (part of) the unitary. Uncomment if n is small enough.\n",
        "# cirq.unitary(ModularExp(target, exponent, x, n))"
      ]
    },
    {
      "cell_type": "markdown",
      "metadata": {
        "id": "RlLEpUbPYAsC"
      },
      "source": [
        "## Using the modular exponential gate in a circuit"
      ]
    },
    {
      "cell_type": "markdown",
      "metadata": {
        "id": "Tq9LhevvYAsD"
      },
      "source": [
        "The quantum part of Shor's algorithm is just phase estimation with the unitary $U$ corresponding to the modular exponential gate. The following cell defines a function which creates the circuit for Shor's algorithm using the `ModularExp` gate we defined above."
      ]
    },
    {
      "cell_type": "code",
      "execution_count": 13,
      "metadata": {
        "id": "9RPcq0o8YAsD"
      },
      "outputs": [],
      "source": [
        "\"\"\"Function to make the quantum circuit for order finding.\"\"\"\n",
        "\n",
        "\n",
        "def make_order_finding_circuit(x: int, n: int) -> cirq.Circuit:\n",
        "    \"\"\"Returns quantum circuit which computes the order of x modulo n.\n",
        "\n",
        "    The circuit uses Quantum Phase Estimation to compute an eigenvalue of\n",
        "    the following unitary:\n",
        "\n",
        "        U|y⟩ = |y * x mod n⟩      0 <= y < n\n",
        "        U|y⟩ = |y⟩                n <= y\n",
        "\n",
        "    Args:\n",
        "        x: positive integer whose order modulo n is to be found\n",
        "        n: modulus relative to which the order of x is to be found\n",
        "\n",
        "    Returns:\n",
        "        Quantum circuit for finding the order of x modulo n\n",
        "    \"\"\"\n",
        "    L = n.bit_length()\n",
        "    target = cirq.LineQubit.range(L)\n",
        "    exponent = cirq.LineQubit.range(L, 3 * L + 3)\n",
        "\n",
        "    # Create a ModularExp gate sized for these registers.\n",
        "    mod_exp = ModularExp([2] * L, [2] * (2 * L + 3), x, n)\n",
        "\n",
        "    return cirq.Circuit(\n",
        "        cirq.X(target[L - 1]),\n",
        "        cirq.H.on_each(*exponent),\n",
        "        mod_exp.on(*target, *exponent),\n",
        "        cirq.qft(*exponent, inverse=True),\n",
        "        cirq.measure(*exponent, key='exponent'),\n",
        "    )"
      ]
    },
    {
      "cell_type": "markdown",
      "metadata": {
        "id": "2KdE9tshYAsG"
      },
      "source": [
        "Using this function, we can visualize the circuit for a given $x$ and $n$ as follows."
      ]
    },
    {
      "cell_type": "code",
      "execution_count": 14,
      "metadata": {
        "id": "Ug17LWJXYAsH",
        "outputId": "5f1eea28-53e3-4d6a-bd86-519ca90e81c7",
        "colab": {
          "base_uri": "https://localhost:8080/"
        }
      },
      "outputs": [
        {
          "output_type": "stream",
          "name": "stdout",
          "text": [
            "0: ────────ModularExp(t*7**e % 15)────────────────────────────\n",
            "           │\n",
            "1: ────────t1─────────────────────────────────────────────────\n",
            "           │\n",
            "2: ────────t2─────────────────────────────────────────────────\n",
            "           │\n",
            "3: ────X───t3─────────────────────────────────────────────────\n",
            "           │\n",
            "4: ────H───e0────────────────────────qft^-1───M('exponent')───\n",
            "           │                         │        │\n",
            "5: ────H───e1────────────────────────#2───────M───────────────\n",
            "           │                         │        │\n",
            "6: ────H───e2────────────────────────#3───────M───────────────\n",
            "           │                         │        │\n",
            "7: ────H───e3────────────────────────#4───────M───────────────\n",
            "           │                         │        │\n",
            "8: ────H───e4────────────────────────#5───────M───────────────\n",
            "           │                         │        │\n",
            "9: ────H───e5────────────────────────#6───────M───────────────\n",
            "           │                         │        │\n",
            "10: ───H───e6────────────────────────#7───────M───────────────\n",
            "           │                         │        │\n",
            "11: ───H───e7────────────────────────#8───────M───────────────\n",
            "           │                         │        │\n",
            "12: ───H───e8────────────────────────#9───────M───────────────\n",
            "           │                         │        │\n",
            "13: ───H───e9────────────────────────#10──────M───────────────\n",
            "           │                         │        │\n",
            "14: ───H───e10───────────────────────#11──────M───────────────\n"
          ]
        }
      ],
      "source": [
        "\"\"\"Example of the quantum circuit for period finding.\"\"\"\n",
        "\n",
        "n = 15\n",
        "x = 7\n",
        "circuit = make_order_finding_circuit(x, n)\n",
        "print(circuit)"
      ]
    },
    {
      "cell_type": "markdown",
      "metadata": {
        "id": "xDRxEMRlYAsL"
      },
      "source": [
        "As previously described, we put the exponent register into an equal superposition via Hadamard gates. The $X$ gate on the last qubit in the target register is used for phase kickback. The modular exponential gate performs the sequence of controlled unitaries in phase estimation, then we apply the inverse quantum Fourier transform to the exponent register and measure to read out the result."
      ]
    },
    {
      "cell_type": "markdown",
      "metadata": {
        "id": "XuRRIrnXYAsM"
      },
      "source": [
        "To illustrate the measurement results, we can sample from a smaller circuit. (Note that in practice we would never run Shor's algorithm with $n = 6$ because it is even. This is just an example to illustrate the measurement outcomes.)"
      ]
    },
    {
      "cell_type": "code",
      "execution_count": 15,
      "metadata": {
        "id": "zGb2AbE1YAsN",
        "outputId": "cf2a6f9f-e0ad-4883-fd01-a7311463defa",
        "colab": {
          "base_uri": "https://localhost:8080/"
        }
      },
      "outputs": [
        {
          "output_type": "stream",
          "name": "stdout",
          "text": [
            "Raw measurements:\n",
            "exponent=10100000, 00000000, 00000000, 00000000, 00000000, 00000000, 00000000, 00000000, 00000000\n",
            "\n",
            "Integer in exponent register:\n",
            "   exponent\n",
            "0       256\n",
            "1         0\n",
            "2       256\n",
            "3         0\n",
            "4         0\n",
            "5         0\n",
            "6         0\n",
            "7         0\n"
          ]
        }
      ],
      "source": [
        "\"\"\"Measuring Shor's period finding circuit.\"\"\"\n",
        "\n",
        "circuit = make_order_finding_circuit(x=5, n=6)\n",
        "res = cirq.sample(circuit, repetitions=8)\n",
        "\n",
        "print(\"Raw measurements:\")\n",
        "print(res)\n",
        "\n",
        "print(\"\\nInteger in exponent register:\")\n",
        "print(res.data)"
      ]
    },
    {
      "cell_type": "markdown",
      "metadata": {
        "id": "MXKgsP_xYAsQ"
      },
      "source": [
        "We interpret each measured bitstring as an integer, but what do these integers tell us? In the next section we look at how to classically post-process to interpret them."
      ]
    },
    {
      "cell_type": "markdown",
      "metadata": {
        "id": "_7ZMlsRiYAsQ"
      },
      "source": [
        "## Classical post-processing"
      ]
    },
    {
      "cell_type": "markdown",
      "metadata": {
        "id": "-MHQF1x4YAsR"
      },
      "source": [
        "The integer we measure is close to $s / r$ where $r$ is the order of $x \\in \\mathbb{Z}_n$ and $0 \\le s < r$ is an integer. We use the continued fractions algorithm to determine $r$ from $s / r$ then return it if the order finding circuit succeeded, else we return `None`."
      ]
    },
    {
      "cell_type": "code",
      "execution_count": 16,
      "metadata": {
        "id": "pKQ59vB6YAsR"
      },
      "outputs": [],
      "source": [
        "def process_measurement(result: cirq.Result, x: int, n: int) -> int | None:\n",
        "    \"\"\"Interprets the output of the order finding circuit.\n",
        "\n",
        "    Specifically, it determines s/r such that exp(2πis/r) is an eigenvalue\n",
        "    of the unitary\n",
        "\n",
        "        U|y⟩ = |xy mod n⟩  0 <= y < n\n",
        "        U|y⟩ = |y⟩         n <= y\n",
        "\n",
        "    then computes r (by continued fractions) if possible, and returns it.\n",
        "\n",
        "    Args:\n",
        "        result: result obtained by sampling the output of the\n",
        "            circuit built by make_order_finding_circuit\n",
        "\n",
        "    Returns:\n",
        "        r, the order of x modulo n or None.\n",
        "    \"\"\"\n",
        "    # Read the output integer of the exponent register.\n",
        "    exponent_as_integer = result.data[\"exponent\"][0]\n",
        "    exponent_num_bits = result.measurements[\"exponent\"].shape[1]\n",
        "    eigenphase = float(exponent_as_integer / 2**exponent_num_bits)\n",
        "\n",
        "    # Run the continued fractions algorithm to determine f = s / r.\n",
        "    f = fractions.Fraction.from_float(eigenphase).limit_denominator(n)\n",
        "\n",
        "    # If the numerator is zero, the order finder failed.\n",
        "    if f.numerator == 0:\n",
        "        return None\n",
        "\n",
        "    # Else, return the denominator if it is valid.\n",
        "    r = f.denominator\n",
        "    if x**r % n != 1:\n",
        "        return None\n",
        "    return r"
      ]
    },
    {
      "cell_type": "markdown",
      "metadata": {
        "id": "A9cGZBaEYAsU"
      },
      "source": [
        "The next code block shows an example of creating an order finding circuit, executing it, then using the classical postprocessing function to determine the order. Recall that the quantum part of the algorithm succeeds with some probability. If the order is `None`, try re-running the cell a few times."
      ]
    },
    {
      "cell_type": "code",
      "execution_count": 17,
      "metadata": {
        "id": "CTFqzZRdYAsU",
        "outputId": "a97655d1-c223-41d6-ca78-d8acebee25fc",
        "colab": {
          "base_uri": "https://localhost:8080/"
        }
      },
      "outputs": [
        {
          "output_type": "stream",
          "name": "stdout",
          "text": [
            "Finding the order of x = 5 modulo n = 6\n",
            "\n",
            "Raw measurements:\n",
            "exponent=0, 0, 0, 0, 0, 0, 0, 0, 0\n",
            "\n",
            "Integer in exponent register:\n",
            "   exponent\n",
            "0         0\n",
            "\n",
            "Order r = None\n"
          ]
        }
      ],
      "source": [
        "\"\"\"Example of the classical post-processing.\"\"\"\n",
        "\n",
        "# Set n and x here\n",
        "n = 6\n",
        "x = 5\n",
        "\n",
        "print(f\"Finding the order of x = {x} modulo n = {n}\\n\")\n",
        "measurement = cirq.sample(circuit, repetitions=1)\n",
        "print(\"Raw measurements:\")\n",
        "print(measurement)\n",
        "\n",
        "print(\"\\nInteger in exponent register:\")\n",
        "print(measurement.data)\n",
        "\n",
        "r = process_measurement(measurement, x, n)\n",
        "print(\"\\nOrder r =\", r)\n",
        "if r is not None:\n",
        "    print(f\"x^r mod n = {x}^{r} mod {n} = {x**r % n}\")"
      ]
    },
    {
      "cell_type": "markdown",
      "metadata": {
        "id": "OvHORjsfYAsX"
      },
      "source": [
        "You should see that the order of $x = 5$ in $\\mathbb{Z}_6$ is $r = 2$. Indeed, $5^2 \\text{ mod } 6 = 25 \\text{ mod } 6 = 1$."
      ]
    },
    {
      "cell_type": "markdown",
      "metadata": {
        "id": "u5BzQWsLYAsY"
      },
      "source": [
        "## Quantum order finder"
      ]
    },
    {
      "cell_type": "markdown",
      "metadata": {
        "id": "c-4fTF_TYAsY"
      },
      "source": [
        "We can now define a streamlined function for the quantum version of order finding using the functions we have previously written. The quantum order finder below creates the circuit, executes it, and processes the measurement result."
      ]
    },
    {
      "cell_type": "code",
      "execution_count": 18,
      "metadata": {
        "id": "Qwo3s-AsYAsZ"
      },
      "outputs": [],
      "source": [
        "def quantum_order_finder(x: int, n: int) -> int | None:\n",
        "    \"\"\"Computes smallest positive r such that x**r mod n == 1.\n",
        "\n",
        "    Args:\n",
        "        x: integer whose order is to be computed, must be greater than one\n",
        "           and belong to the multiplicative group of integers modulo n (which\n",
        "           consists of positive integers relatively prime to n),\n",
        "        n: modulus of the multiplicative group.\n",
        "    \"\"\"\n",
        "    # Check that the integer x is a valid element of the multiplicative group\n",
        "    # modulo n.\n",
        "    if x < 2 or n <= x or math.gcd(x, n) > 1:\n",
        "        raise ValueError(f'Invalid x={x} for modulus n={n}.')\n",
        "\n",
        "    # Create the order finding circuit.\n",
        "    circuit = make_order_finding_circuit(x, n)\n",
        "\n",
        "    # Sample from the order finding circuit.\n",
        "    measurement = cirq.sample(circuit)\n",
        "\n",
        "    # Return the processed measurement result.\n",
        "    return process_measurement(measurement, x, n)"
      ]
    },
    {
      "cell_type": "markdown",
      "metadata": {
        "id": "setIOHrMYAsd"
      },
      "source": [
        "This completes our quantum implementation of an order finder, and the quantum part of Shor's algorithm."
      ]
    },
    {
      "cell_type": "markdown",
      "metadata": {
        "id": "PvoEWimKYAsd"
      },
      "source": [
        "# The complete factoring algorithm"
      ]
    },
    {
      "cell_type": "markdown",
      "metadata": {
        "id": "_GIl9R48YAse"
      },
      "source": [
        "We can use this quantum order finder (or the classical order finder) to complete Shor's algorithm. In the following code block, we add a few pre-processing steps which:\n",
        "\n",
        "(1) Check if $n$ is even,\n",
        "\n",
        "(2) Check if $n$ is prime,\n",
        "\n",
        "(3) Check if $n$ is a prime power,\n",
        "\n",
        "all of which can be done efficiently with a classical computer. Additionally, we add the last necessary post-processing step which uses the order $r$ to compute a non-trivial factor $p$ of $n$. This is achieved by computing $y = x^{r / 2} \\text{ mod } n$ (assuming $r$ is even), then computing $p = \\text{gcd}(y - 1, n)$."
      ]
    },
    {
      "cell_type": "code",
      "execution_count": 19,
      "metadata": {
        "id": "XvRmVZRLYAse"
      },
      "outputs": [],
      "source": [
        "\"\"\"Functions for factoring from start to finish.\"\"\"\n",
        "\n",
        "\n",
        "def find_factor_of_prime_power(n: int) -> int | None:\n",
        "    \"\"\"Returns non-trivial factor of n if n is a prime power, else None.\"\"\"\n",
        "    for k in range(2, math.floor(math.log2(n)) + 1):\n",
        "        c = math.pow(n, 1 / k)\n",
        "        c1 = math.floor(c)\n",
        "        if c1**k == n:\n",
        "            return c1\n",
        "        c2 = math.ceil(c)\n",
        "        if c2**k == n:\n",
        "            return c2\n",
        "    return None\n",
        "\n",
        "\n",
        "def find_factor(\n",
        "    n: int,\n",
        "    order_finder: Callable[[int, int], int | None] = quantum_order_finder,\n",
        "    max_attempts: int = 30,\n",
        ") -> int | None:\n",
        "    \"\"\"Returns a non-trivial factor of composite integer n.\n",
        "\n",
        "    Args:\n",
        "        n: Integer to factor.\n",
        "        order_finder: Function for finding the order of elements of the\n",
        "            multiplicative group of integers modulo n.\n",
        "        max_attempts: number of random x's to try, also an upper limit\n",
        "            on the number of order_finder invocations.\n",
        "\n",
        "    Returns:\n",
        "        Non-trivial factor of n or None if no such factor was found.\n",
        "        Factor k of n is trivial if it is 1 or n.\n",
        "    \"\"\"\n",
        "    # If the number is prime, there are no non-trivial factors.\n",
        "    if sympy.isprime(n):\n",
        "        print(\"n is prime!\")\n",
        "        return None\n",
        "\n",
        "    # If the number is even, two is a non-trivial factor.\n",
        "    if n % 2 == 0:\n",
        "        return 2\n",
        "\n",
        "    # If n is a prime power, we can find a non-trivial factor efficiently.\n",
        "    c = find_factor_of_prime_power(n)\n",
        "    if c is not None:\n",
        "        return c\n",
        "\n",
        "    for _ in range(max_attempts):\n",
        "        # Choose a random number between 2 and n - 1.\n",
        "        x = random.randint(2, n - 1)\n",
        "\n",
        "        # Most likely x and n will be relatively prime.\n",
        "        c = math.gcd(x, n)\n",
        "\n",
        "        # If x and n are not relatively prime, we got lucky and found\n",
        "        # a non-trivial factor.\n",
        "        if 1 < c < n:\n",
        "            return c\n",
        "\n",
        "        # Compute the order r of x modulo n using the order finder.\n",
        "        r = order_finder(x, n)\n",
        "\n",
        "        # If the order finder failed, try again.\n",
        "        if r is None:\n",
        "            continue\n",
        "\n",
        "        # If the order r is even, try again.\n",
        "        if r % 2 != 0:\n",
        "            continue\n",
        "\n",
        "        # Compute the non-trivial factor.\n",
        "        y = x ** (r // 2) % n\n",
        "        assert 1 < y < n\n",
        "        c = math.gcd(y - 1, n)\n",
        "        if 1 < c < n:\n",
        "            return c\n",
        "\n",
        "    print(f\"Failed to find a non-trivial factor in {max_attempts} attempts.\")\n",
        "    return None"
      ]
    },
    {
      "cell_type": "markdown",
      "metadata": {
        "id": "migE2tNYYAsh"
      },
      "source": [
        "The function `find_factor` uses the `quantum_order_finder` by default, in which case it is executing Shor's algorithm. As previously mentioned, due to the large memory requirements for classically simulating this circuit, we cannot run Shor's algorithm for $n \\ge 15$. However, we can use the classical order finder as a substitute."
      ]
    },
    {
      "cell_type": "code",
      "execution_count": 20,
      "metadata": {
        "id": "1RN4SqfDYAsh",
        "outputId": "a4de48af-0c95-4e94-ed84-1988622db40f",
        "colab": {
          "base_uri": "https://localhost:8080/"
        }
      },
      "outputs": [
        {
          "output_type": "stream",
          "name": "stdout",
          "text": [
            "Factoring n = pq = 184573\n",
            "p = 487\n",
            "q = 379\n"
          ]
        }
      ],
      "source": [
        "\"\"\"Example of factoring via Shor's algorithm (order finding).\"\"\"\n",
        "\n",
        "# Number to factor\n",
        "n = 184573\n",
        "\n",
        "# Attempt to find a factor\n",
        "p = find_factor(n, order_finder=classical_order_finder)\n",
        "q = n // p\n",
        "\n",
        "print(\"Factoring n = pq =\", n)\n",
        "print(\"p =\", p)\n",
        "print(\"q =\", q)"
      ]
    },
    {
      "cell_type": "code",
      "execution_count": 21,
      "metadata": {
        "id": "PTZTrPU1Zrad",
        "outputId": "80fc6824-9d6c-48a0-b394-0fcf9a1108e5",
        "colab": {
          "base_uri": "https://localhost:8080/"
        }
      },
      "outputs": [
        {
          "output_type": "execute_result",
          "data": {
            "text/plain": [
              "True"
            ]
          },
          "metadata": {},
          "execution_count": 21
        }
      ],
      "source": [
        "\"\"\"Check the answer is correct.\"\"\"\n",
        "\n",
        "p * q == n"
      ]
    },
    {
      "cell_type": "code",
      "source": [],
      "metadata": {
        "id": "UgLvuvgcz96L"
      },
      "execution_count": null,
      "outputs": []
    }
  ],
  "metadata": {
    "colab": {
      "name": "shor.ipynb",
      "provenance": []
    },
    "kernelspec": {
      "display_name": "Python 3",
      "name": "python3"
    }
  },
  "nbformat": 4,
  "nbformat_minor": 0
}